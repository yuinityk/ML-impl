{
 "cells": [
  {
   "cell_type": "code",
   "execution_count": null,
   "metadata": {},
   "outputs": [],
   "source": []
  },
  {
   "cell_type": "markdown",
   "metadata": {},
   "source": [
    "## Import modules"
   ]
  },
  {
   "cell_type": "code",
   "execution_count": 1,
   "metadata": {},
   "outputs": [],
   "source": [
    "import random\n",
    "import numpy as np\n",
    "import pandas as pd\n",
    "import matplotlib.pyplot as plt\n",
    "import seaborn as sns\n",
    "from sklearn.metrics import confusion_matrix\n",
    "import torch\n",
    "import torch.nn as nn\n",
    "import torch.optim as optim\n",
    "import torch.nn.functional as F\n",
    "import torchvision\n",
    "import torchvision.transforms as transforms\n",
    "%matplotlib inline"
   ]
  },
  {
   "cell_type": "code",
   "execution_count": 2,
   "metadata": {},
   "outputs": [
    {
     "data": {
      "text/plain": [
       "<torch._C.Generator at 0x7fb9aae83528>"
      ]
     },
     "execution_count": 2,
     "metadata": {},
     "output_type": "execute_result"
    }
   ],
   "source": [
    "seed = 4\n",
    "random.seed(seed)\n",
    "np.random.seed(seed)\n",
    "torch.manual_seed(seed)"
   ]
  },
  {
   "cell_type": "markdown",
   "metadata": {},
   "source": [
    "## Dataloader"
   ]
  },
  {
   "cell_type": "code",
   "execution_count": 3,
   "metadata": {},
   "outputs": [],
   "source": [
    "transform = transforms.Compose(\n",
    "    [transforms.ToTensor(),\n",
    "     transforms.Normalize((0.5,), (0.5,))]\n",
    ")\n",
    "trainset = torchvision.datasets.MNIST(root='./data',\n",
    "                                      train=True,\n",
    "                                      download=True,\n",
    "                                      transform=transform)\n",
    "testset = torchvision.datasets.MNIST(root='./data',\n",
    "                                     train=False,\n",
    "                                     download=True,\n",
    "                                     transform=transform)\n",
    "trainloader = torch.utils.data.DataLoader(trainset,\n",
    "                                          batch_size=50,\n",
    "                                          shuffle=True,\n",
    "                                          num_workers=2)\n",
    "testloader = torch.utils.data.DataLoader(testset,\n",
    "                                         batch_size=50,\n",
    "                                         shuffle=True,\n",
    "                                         num_workers=2)"
   ]
  },
  {
   "cell_type": "code",
   "execution_count": 4,
   "metadata": {},
   "outputs": [
    {
     "name": "stdout",
     "output_type": "stream",
     "text": [
      "torch.Size([50, 1, 28, 28])\n",
      "torch.Size([50])\n"
     ]
    }
   ],
   "source": [
    "# Check batch size and shape of image\n",
    "for i, (inputs, labels) in enumerate(trainloader, 0):\n",
    "    print(inputs.size())\n",
    "    print(labels.size())\n",
    "    break"
   ]
  },
  {
   "cell_type": "markdown",
   "metadata": {},
   "source": [
    "## CVAE"
   ]
  },
  {
   "cell_type": "code",
   "execution_count": 5,
   "metadata": {},
   "outputs": [],
   "source": [
    "class CVAE(nn.Module):\n",
    "    def __init__(self, z_dim):\n",
    "        super(CVAE, self).__init__()\n",
    "        hidden_dim = 512\n",
    "        self.dense_enc1 = nn.Linear(28*28+10, hidden_dim)\n",
    "        self.dense_enc2 = nn.Linear(hidden_dim, hidden_dim)\n",
    "        self.dense_encmean = nn.Linear(hidden_dim, z_dim)\n",
    "        self.dense_encvar = nn.Linear(hidden_dim, z_dim)\n",
    "        self.dense_dec1 = nn.Linear(z_dim+10, hidden_dim)\n",
    "        self.dense_dec2 = nn.Linear(hidden_dim, hidden_dim)\n",
    "        self.dense_dec3 = nn.Linear(hidden_dim, 28*28)\n",
    "    \n",
    "    def _encoder(self, x, l):\n",
    "#         print(x.size(), l.view(50, 1).size())\n",
    "#         print(torch.cat([x, l.view(50, 1)],dim=1).size())\n",
    "        x = torch.cat([x, l], dim=1)\n",
    "        x = F.relu(self.dense_enc1(x))\n",
    "        x = F.relu(self.dense_enc2(x))\n",
    "        mean = self.dense_encmean(x)\n",
    "        var = F.softplus(self.dense_encvar(x))\n",
    "        return mean, var\n",
    "    \n",
    "    def _sample_z(self, mean, var):\n",
    "        epsilon = torch.randn(mean.shape).to(device)\n",
    "        return mean + torch.sqrt(var) * epsilon\n",
    " \n",
    "    def _decoder(self, z, l):\n",
    "        z = torch.cat([z, l], dim=1)\n",
    "        x = F.relu(self.dense_dec1(z))\n",
    "        x = F.relu(self.dense_dec2(x))\n",
    "        x = torch.sigmoid(self.dense_dec3(x))\n",
    "        return x\n",
    "\n",
    "    def forward(self, x, l):\n",
    "        mean, var = self._encoder(x, l)\n",
    "        z = self._sample_z(mean, var)\n",
    "        x = self._decoder(z, l)\n",
    "        return x, z\n",
    "    \n",
    "    def loss(self, x, l):\n",
    "        mean, var = self._encoder(x, l)\n",
    "        KL = -0.5 * torch.mean(torch.sum(1 + torch.log(var) - mean**2 - var))\n",
    "        z = self._sample_z(mean, var)\n",
    "        y = self._decoder(z, l)\n",
    "        delta = 1e-6\n",
    "        reconstruction = torch.mean(torch.sum(x * torch.log(y + delta) + (1 - x) * torch.log(1 - y + delta)))\n",
    "        lower_bound = [-KL, reconstruction]                                      \n",
    "        return -sum(lower_bound)"
   ]
  },
  {
   "cell_type": "code",
   "execution_count": 6,
   "metadata": {},
   "outputs": [
    {
     "name": "stdout",
     "output_type": "stream",
     "text": [
      "True\n",
      "0\n"
     ]
    }
   ],
   "source": [
    "print(torch.cuda.is_available())\n",
    "print(torch.cuda.current_device())"
   ]
  },
  {
   "cell_type": "code",
   "execution_count": 7,
   "metadata": {},
   "outputs": [],
   "source": [
    "device = torch.device(\"cuda:0\")\n",
    "model = CVAE(10).to(device)\n",
    "optimizer = optim.Adam(model.parameters(), lr=0.001)\n",
    "model.train()\n",
    "losses = []\n",
    "for i in range(20):\n",
    "    for x, t in trainloader:\n",
    "        x = x.to(device)\n",
    "        t = t.to(device)\n",
    "        onehot = torch.LongTensor(len(x), 10).zero_().to(device)\n",
    "        t = t.view(-1, 1)\n",
    "        t = onehot.scatter(1, t, 1)\n",
    "        x = x.view(-1, 28 * 28)\n",
    "        model.zero_grad()\n",
    "        y = model(x, t)\n",
    "        loss = model.loss(x, t)\n",
    "        loss.backward()\n",
    "        optimizer.step()\n",
    "        losses.append(loss.cpu().detach().numpy())"
   ]
  },
  {
   "cell_type": "code",
   "execution_count": 8,
   "metadata": {},
   "outputs": [
    {
     "data": {
      "image/png": "[encoded data removed]",
      "text/plain": [
       "<Figure size 432x288 with 1 Axes>"
      ]
     },
     "metadata": {},
     "output_type": "display_data"
    }
   ],
   "source": [
    "pd.DataFrame(losses).plot()\n",
    "plt.tick_params(colors='white')"
   ]
  },
  {
   "cell_type": "code",
   "execution_count": 9,
   "metadata": {},
   "outputs": [
    {
     "data": {
      "image/png": "[encoded data removed]",
      "text/plain": [
       "<Figure size 720x216 with 20 Axes>"
      ]
     },
     "metadata": {},
     "output_type": "display_data"
    }
   ],
   "source": [
    "%matplotlib inline\n",
    "import matplotlib.pyplot as plt\n",
    "import numpy as np\n",
    "\n",
    "fig = plt.figure(figsize=(10, 3))\n",
    "\n",
    "model.eval()\n",
    "for x, t in testloader:\n",
    "    # original\n",
    "    for i, im in enumerate(x.view(-1, 28, 28).detach().numpy()[:10]):\n",
    "        ax = fig.add_subplot(3, 10, i+1, xticks=[], yticks=[])\n",
    "        ax.imshow(im, 'gray')\n",
    "    x = x.to(device)\n",
    "    t = t.to(device)\n",
    "    onehot = torch.LongTensor(len(x), 10).zero_().to(device)\n",
    "    t = t.view(-1, 1)\n",
    "    t = onehot.scatter(1, t, 1)\n",
    "    # generate from x\n",
    "    x = x.view(-1, 28 * 28)\n",
    "    y, z = model(x, t)\n",
    "    y = y.view(-1, 28, 28)\n",
    "    for i, im in enumerate(y.cpu().detach().numpy()[:10]):\n",
    "        ax = fig.add_subplot(3, 10, i+11, xticks=[], yticks=[])\n",
    "        ax.imshow(im, 'gray')\n",
    "    break"
   ]
  },
  {
   "cell_type": "code",
   "execution_count": 10,
   "metadata": {},
   "outputs": [],
   "source": [
    "z = torch.randn(20,10).to(device)\n",
    "t = torch.tensor([5 if i<10 else 3 for i in range(20)]).to(device)\n",
    "onehot = torch.LongTensor(20, 10).zero_().to(device)\n",
    "t = t.view(-1, 1)\n",
    "t = onehot.scatter(1, t, 1)"
   ]
  },
  {
   "cell_type": "code",
   "execution_count": 11,
   "metadata": {},
   "outputs": [
    {
     "data": {
      "image/png": "[encoded data removed]",
      "text/plain": [
       "<Figure size 720x144 with 20 Axes>"
      ]
     },
     "metadata": {},
     "output_type": "display_data"
    }
   ],
   "source": [
    "%matplotlib inline\n",
    "fig = plt.figure(figsize=(10, 2))\n",
    "x = model._decoder(z, t)\n",
    "x = x.view(-1, 28, 28)\n",
    "x = x.cpu().detach().numpy()\n",
    "for i in range(20):\n",
    "    ax = fig.add_subplot(2, 10, i+1, xticks=[], yticks=[])\n",
    "    ax.imshow(x[i], 'gray')"
   ]
  }
 ],
 "metadata": {
  "kernelspec": {
   "display_name": "Python 3",
   "language": "python",
   "name": "python3"
  },
  "language_info": {
   "codemirror_mode": {
    "name": "ipython",
    "version": 3
   },
   "file_extension": ".py",
   "mimetype": "text/x-python",
   "name": "python",
   "nbconvert_exporter": "python",
   "pygments_lexer": "ipython3",
   "version": "3.6.10"
  }
 },
 "nbformat": 4,
 "nbformat_minor": 4
}
