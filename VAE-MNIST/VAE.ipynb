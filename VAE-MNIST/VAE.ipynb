{
 "cells": [
  {
   "cell_type": "code",
   "execution_count": null,
   "metadata": {},
   "outputs": [],
   "source": []
  },
  {
   "cell_type": "markdown",
   "metadata": {},
   "source": [
    "## Import modules"
   ]
  },
  {
   "cell_type": "code",
   "execution_count": 1,
   "metadata": {},
   "outputs": [],
   "source": [
    "import random\n",
    "import numpy as np\n",
    "import pandas as pd\n",
    "import matplotlib.pyplot as plt\n",
    "import seaborn as sns\n",
    "from sklearn.metrics import confusion_matrix\n",
    "import torch\n",
    "import torch.nn as nn\n",
    "import torch.optim as optim\n",
    "import torch.nn.functional as F\n",
    "import torchvision\n",
    "import torchvision.transforms as transforms\n",
    "%matplotlib inline"
   ]
  },
  {
   "cell_type": "code",
   "execution_count": 2,
   "metadata": {},
   "outputs": [
    {
     "data": {
      "text/plain": [
       "<torch._C.Generator at 0x7f313026f528>"
      ]
     },
     "execution_count": 2,
     "metadata": {},
     "output_type": "execute_result"
    }
   ],
   "source": [
    "seed = 4\n",
    "random.seed(seed)\n",
    "np.random.seed(seed)\n",
    "torch.manual_seed(seed)"
   ]
  },
  {
   "cell_type": "markdown",
   "metadata": {},
   "source": [
    "## Dataloader"
   ]
  },
  {
   "cell_type": "code",
   "execution_count": 3,
   "metadata": {},
   "outputs": [],
   "source": [
    "transform = transforms.Compose(\n",
    "    [transforms.ToTensor(),\n",
    "     transforms.Normalize((0.5,), (0.5,))]\n",
    ")\n",
    "trainset = torchvision.datasets.MNIST(root='./data',\n",
    "                                      train=True,\n",
    "                                      download=True,\n",
    "                                      transform=transform)\n",
    "testset = torchvision.datasets.MNIST(root='./data',\n",
    "                                     train=False,\n",
    "                                     download=True,\n",
    "                                     transform=transform)\n",
    "trainloader = torch.utils.data.DataLoader(trainset,\n",
    "                                          batch_size=50,\n",
    "                                          shuffle=True,\n",
    "                                          num_workers=2)\n",
    "testloader = torch.utils.data.DataLoader(testset,\n",
    "                                         batch_size=50,\n",
    "                                         shuffle=True,\n",
    "                                         num_workers=2)"
   ]
  },
  {
   "cell_type": "code",
   "execution_count": 4,
   "metadata": {},
   "outputs": [
    {
     "name": "stdout",
     "output_type": "stream",
     "text": [
      "torch.Size([50, 1, 28, 28])\n",
      "torch.Size([50])\n"
     ]
    }
   ],
   "source": [
    "# Check batch size and shape of image\n",
    "for i, (inputs, labels) in enumerate(trainloader, 0):\n",
    "    print(inputs.size())\n",
    "    print(labels.size())\n",
    "    break"
   ]
  },
  {
   "cell_type": "markdown",
   "metadata": {},
   "source": [
    "## VAE 1"
   ]
  },
  {
   "cell_type": "code",
   "execution_count": 30,
   "metadata": {},
   "outputs": [],
   "source": [
    "class VAE1(nn.Module):\n",
    "    def __init__(self, z_dim):\n",
    "        super(VAE1, self).__init__()\n",
    "        self.conv1 = nn.Conv2d(1, 30, 3)\n",
    "        self.pool = nn.MaxPool2d(2, 2)\n",
    "        self.conv2 = nn.Conv2d(30, 11, 2)\n",
    "        self.dropout_enc = nn.Dropout2d()\n",
    "        self.dense_enc1 = nn.Linear(11 * 6 * 6, 50)\n",
    "        self.dense_encmean = nn.Linear(50, z_dim)\n",
    "        self.dense_encvar = nn.Linear(50, z_dim)\n",
    "        self.dense_dec1 = nn.Linear(z_dim, 40)\n",
    "        self.dropout_dec = nn.Dropout2d()\n",
    "        self.dense_dec2 = nn.Linear(40, 28 * 28)\n",
    "    \n",
    "    def _encoder(self, x):\n",
    "        x = self.pool(F.relu(self.conv1(x)))\n",
    "        x = self.pool(F.relu(self.conv2(x)))\n",
    "        x = self.dropout_enc(x)\n",
    "        x = x.view(-1, 11 * 6 * 6)\n",
    "        x = F.relu(self.dense_enc1(x))\n",
    "        mean = self.dense_encmean(x)\n",
    "        var = F.softplus(self.dense_encvar(x))\n",
    "        return mean, var\n",
    "    \n",
    "    def _sample_z(self, mean, var):\n",
    "        epsilon = torch.randn(mean.shape).to(device)\n",
    "        return mean + torch.sqrt(var) * epsilon\n",
    " \n",
    "    def _decoder(self, z):\n",
    "        x = F.relu(self.dense_dec1(z))\n",
    "        x = self.dropout_dec(x)\n",
    "        x = torch.sigmoid(self.dense_dec2(x))\n",
    "        return x\n",
    "\n",
    "    def forward(self, x):\n",
    "        mean, var = self._encoder(x)\n",
    "        z = self._sample_z(mean, var)\n",
    "        x = self._decoder(z)\n",
    "        return x, z\n",
    "    \n",
    "    def loss(self, x):\n",
    "        mean, var = self._encoder(x)\n",
    "        KL = -0.5 * torch.mean(torch.sum(1 + torch.log(var) - mean**2 - var))\n",
    "        z = self._sample_z(mean, var)\n",
    "        y = self._decoder(z)\n",
    "        y = y.view(-1, 1, 28, 28)\n",
    "        delta = 1e-6\n",
    "        reconstruction = torch.mean(torch.sum(x * torch.log(y + delta) + (1 - x) * torch.log(1 - y + delta)))\n",
    "        lower_bound = [-KL, reconstruction]                                      \n",
    "        return -sum(lower_bound)"
   ]
  },
  {
   "cell_type": "code",
   "execution_count": 31,
   "metadata": {},
   "outputs": [],
   "source": [
    "device = torch.device(\"cuda:0\")\n",
    "model_1 = VAE1(10).to(device)\n",
    "optimizer = optim.Adam(model_1.parameters(), lr=0.001)\n",
    "model_1.train()\n",
    "losses = []\n",
    "for i in range(20):\n",
    "    for x, t in trainloader:\n",
    "        x = x.to(device)\n",
    "        model_1.zero_grad()\n",
    "        y = model_1(x)\n",
    "        loss = model_1.loss(x)\n",
    "        loss.backward()\n",
    "        optimizer.step()\n",
    "        losses.append(loss.cpu().detach().numpy())"
   ]
  },
  {
   "cell_type": "code",
   "execution_count": 32,
   "metadata": {},
   "outputs": [
    {
     "data": {
      "image/png": "[encoded data removed]",
      "text/plain": [
       "<Figure size 432x288 with 1 Axes>"
      ]
     },
     "metadata": {},
     "output_type": "display_data"
    }
   ],
   "source": [
    "pd.DataFrame(losses).plot()\n",
    "plt.tick_params(colors='white')"
   ]
  },
  {
   "cell_type": "code",
   "execution_count": 33,
   "metadata": {},
   "outputs": [
    {
     "data": {
      "image/png": "[encoded data removed]",
      "text/plain": [
       "<Figure size 720x216 with 20 Axes>"
      ]
     },
     "metadata": {},
     "output_type": "display_data"
    }
   ],
   "source": [
    "%matplotlib inline\n",
    "import matplotlib.pyplot as plt\n",
    "import numpy as np\n",
    "\n",
    "fig = plt.figure(figsize=(10, 3))\n",
    "\n",
    "model_1.eval()\n",
    "for x, t in testloader:\n",
    "    # original\n",
    "    for i, im in enumerate(x.view(-1, 28, 28).detach().numpy()[:10]):\n",
    "        ax = fig.add_subplot(3, 10, i+1, xticks=[], yticks=[])\n",
    "        ax.imshow(im, 'gray')\n",
    "    x = x.to(device)\n",
    "    # generate from x\n",
    "#     x = x.view(-1, 28 * 28)\n",
    "    y, z = model_1(x)\n",
    "    y = y.view(-1, 28, 28)\n",
    "    for i, im in enumerate(y.cpu().detach().numpy()[:10]):\n",
    "        ax = fig.add_subplot(3, 10, i+11, xticks=[], yticks=[])\n",
    "        ax.imshow(im, 'gray')\n",
    "    break"
   ]
  },
  {
   "cell_type": "markdown",
   "metadata": {},
   "source": [
    "## VAE 2"
   ]
  },
  {
   "cell_type": "code",
   "execution_count": 34,
   "metadata": {},
   "outputs": [],
   "source": [
    "class VAE2(nn.Module):\n",
    "    def __init__(self, z_dim):\n",
    "        super(VAE2, self).__init__()\n",
    "        self.dense_enc1 = nn.Linear(28*28, 200)\n",
    "        self.dense_enc2 = nn.Linear(200, 200)\n",
    "        self.dense_encmean = nn.Linear(200, z_dim)\n",
    "        self.dense_encvar = nn.Linear(200, z_dim)\n",
    "        self.dense_dec1 = nn.Linear(z_dim, 200)\n",
    "        self.dense_dec2 = nn.Linear(200, 200)\n",
    "        self.dense_dec3 = nn.Linear(200, 28*28)\n",
    "    \n",
    "    def _encoder(self, x):\n",
    "        x = F.relu(self.dense_enc1(x))\n",
    "        x = F.relu(self.dense_enc2(x))\n",
    "        mean = self.dense_encmean(x)\n",
    "        var = F.softplus(self.dense_encvar(x))\n",
    "        return mean, var\n",
    "    \n",
    "    def _sample_z(self, mean, var):\n",
    "        epsilon = torch.randn(mean.shape).to(device)\n",
    "        return mean + torch.sqrt(var) * epsilon\n",
    " \n",
    "    def _decoder(self, z):\n",
    "        x = F.relu(self.dense_dec1(z))\n",
    "        x = F.relu(self.dense_dec2(x))\n",
    "        x = torch.sigmoid(self.dense_dec3(x))\n",
    "        return x\n",
    "\n",
    "    def forward(self, x):\n",
    "        mean, var = self._encoder(x)\n",
    "        z = self._sample_z(mean, var)\n",
    "        x = self._decoder(z)\n",
    "        return x, z\n",
    "    \n",
    "    def loss(self, x):\n",
    "        mean, var = self._encoder(x)\n",
    "        KL = -0.5 * torch.mean(torch.sum(1 + torch.log(var) - mean**2 - var))\n",
    "        z = self._sample_z(mean, var)\n",
    "        y = self._decoder(z)\n",
    "        delta = 1e-6\n",
    "        reconstruction = torch.mean(torch.sum(x * torch.log(y + delta) + (1 - x) * torch.log(1 - y + delta)))\n",
    "        lower_bound = [-KL, reconstruction]                                      \n",
    "        return -sum(lower_bound)"
   ]
  },
  {
   "cell_type": "code",
   "execution_count": 35,
   "metadata": {},
   "outputs": [],
   "source": [
    "device = torch.device(\"cuda:0\")\n",
    "model_2 = VAE2(10).to(device)\n",
    "optimizer = optim.Adam(model_2.parameters(), lr=0.001)\n",
    "model_2.train()\n",
    "losses = []\n",
    "for i in range(20):\n",
    "    for x, t in trainloader:\n",
    "        x = x.to(device)\n",
    "        x = x.view(-1, 28 * 28)\n",
    "        model_2.zero_grad()\n",
    "        y = model_2(x)\n",
    "        loss = model_2.loss(x)\n",
    "        loss.backward()\n",
    "        optimizer.step()\n",
    "        losses.append(loss.cpu().detach().numpy())"
   ]
  },
  {
   "cell_type": "code",
   "execution_count": 36,
   "metadata": {},
   "outputs": [
    {
     "data": {
      "image/png": "[encoded data removed]",
      "text/plain": [
       "<Figure size 432x288 with 1 Axes>"
      ]
     },
     "metadata": {},
     "output_type": "display_data"
    }
   ],
   "source": [
    "pd.DataFrame(losses).plot()\n",
    "plt.tick_params(colors='white')"
   ]
  },
  {
   "cell_type": "code",
   "execution_count": 38,
   "metadata": {},
   "outputs": [
    {
     "data": {
      "image/png": "[encoded data removed]",
      "text/plain": [
       "<Figure size 720x216 with 30 Axes>"
      ]
     },
     "metadata": {},
     "output_type": "display_data"
    }
   ],
   "source": [
    "%matplotlib inline\n",
    "import matplotlib.pyplot as plt\n",
    "import numpy as np\n",
    "\n",
    "fig = plt.figure(figsize=(10, 3))\n",
    "\n",
    "model_2.eval()\n",
    "for x, t in testloader:\n",
    "    # original\n",
    "    for i, im in enumerate(x.view(-1, 28, 28).detach().numpy()[:10]):\n",
    "        ax = fig.add_subplot(3, 10, i+1, xticks=[], yticks=[])\n",
    "        ax.imshow(im, 'gray')\n",
    "    x = x.to(device)\n",
    "    # generate from x\n",
    "    y_1, z_1 = model_1(x)\n",
    "    x = x.view(-1, 28 * 28)\n",
    "    y_2, z_2 = model_2(x)\n",
    "    y_1 = y_1.view(-1, 28, 28)\n",
    "    y_2 = y_2.view(-1, 28, 28)\n",
    "    for i, im in enumerate(y_1.cpu().detach().numpy()[:10]):\n",
    "        ax = fig.add_subplot(3, 10, i+11, xticks=[], yticks=[])\n",
    "        ax.imshow(im, 'gray')\n",
    "    for i, im in enumerate(y_2.cpu().detach().numpy()[:10]):\n",
    "        ax = fig.add_subplot(3, 10, i+21, xticks=[], yticks=[])\n",
    "        ax.imshow(im, 'gray')\n",
    "    break"
   ]
  }
 ],
 "metadata": {
  "kernelspec": {
   "display_name": "Python 3",
   "language": "python",
   "name": "python3"
  },
  "language_info": {
   "codemirror_mode": {
    "name": "ipython",
    "version": 3
   },
   "file_extension": ".py",
   "mimetype": "text/x-python",
   "name": "python",
   "nbconvert_exporter": "python",
   "pygments_lexer": "ipython3",
   "version": "3.6.10"
  }
 },
 "nbformat": 4,
 "nbformat_minor": 4
}
